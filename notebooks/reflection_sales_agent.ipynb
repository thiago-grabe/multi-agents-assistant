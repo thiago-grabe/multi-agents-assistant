{
 "cells": [
  {
   "cell_type": "markdown",
   "id": "6f3d9307",
   "metadata": {},
   "source": [
    "# Agentic AI with PydanticAI: Sales Q&A with Self-Reflection\n",
    "\n",
    "This notebook demonstrates a comprehensive two-agent flow for answering and self-correcting sales-related questions with detailed step-by-step logging:\n",
    "\n",
    "####################### ADVANTAGES OF HAVING REFLECTION AGENTS OR AGENT AS A JUDGE ###########################\n",
    "How simply relying on LLM\n",
    "Explain the Agent Ouputs with calm\n",
    "\n",
    "## 🎯 **Agent Architecture Overview**\n",
    "\n",
    "<img src=\"reflection-agent.png\" width=\"50%\">\n",
    "\n",
    "\n",
    "### 1. **Primary Sales Agent**  \n",
    "- **Role**: Provides initial comprehensive sales answers\n",
    "- **Capability**: Handles complex sales scenarios, strategies, and best practices\n",
    "- **Output**: Structured responses with detailed explanations\n",
    "\n",
    "### 2. **Reflection & Quality Agent**  \n",
    "- **Role**: Reviews, validates, and improves the initial answer\n",
    "- **Capability**: Identifies gaps, inaccuracies, and enhancement opportunities\n",
    "- **Output**: Refined and optimized sales advice\n",
    "\n",
    "## 🔧 **Setup Requirements**\n",
    "\n",
    "Make sure you have:\n",
    "1. Set `OPENAI_API_KEY` in your `.env` file (provided in this project)\n",
    "2. Installed all required dependencies (see installation cell below)\n",
    "3. Python 3.10+ environment\n",
    "\n",
    "## 📊 **What You'll Learn**\n",
    "\n",
    "- How to create specialized sales AI agents using PydanticAI\n",
    "- Implement agent reflection patterns for quality assurance\n",
    "- Structure complex sales scenarios with proper validation\n",
    "- Monitor and log agent decision-making processes\n",
    "- Handle real-world sales challenges with AI assistance"
   ]
  },
  {
   "cell_type": "markdown",
   "id": "24f2f2ec",
   "metadata": {},
   "source": [
    "## 🚀 **Step 1: Install Dependencies**\n",
    "\n",
    "Install all required packages for our sales agents system. This includes:\n",
    "\n",
    "- **pydantic-ai**: The core framework for building AI agents with structured outputs\n",
    "- **python-dotenv**: For loading environment variables from .env file\n",
    "- **openai**: OpenAI API client for GPT model access\n",
    "- **rich**: For beautiful console output and logging\n",
    "- **datetime**: For timestamping our agent operations\n",
    "\n",
    "```bash\n",
    "!pip install pydantic-ai python-dotenv openai rich\n",
    "```\n",
    "\n",
    "### 📋 **Package Explanations**\n",
    "\n",
    "- **pydantic-ai**: Provides type-safe AI agents with validation\n",
    "- **python-dotenv**: Securely manages API keys and configuration\n",
    "- **openai**: Direct interface to OpenAI's GPT models\n",
    "- **rich**: Enhanced console output for better debugging and logging"
   ]
  },
  {
   "cell_type": "markdown",
   "id": "8b704838",
   "metadata": {},
   "source": [
    "## 🔧 **Step 2: Comprehensive Imports & Environment Setup**\n",
    "\n",
    "This section sets up our complete development environment:\n",
    "\n",
    "### 🔍 **What we're importing:**\n",
    "- **Core Libraries**: For basic functionality and environment management\n",
    "- **PydanticAI Components**: For agent creation and model integration  \n",
    "- **Logging & Display**: For detailed step-by-step output\n",
    "- **Type Annotations**: For better code documentation and validation\n",
    "\n",
    "### 🎯 **Environment Configuration:**\n",
    "- Load API keys from `.env` file\n",
    "- Configure logging levels for detailed output\n",
    "- Set up console formatting for better readability"
   ]
  },
  {
   "cell_type": "code",
   "execution_count": 17,
   "id": "da6ea0bb",
   "metadata": {},
   "outputs": [
    {
     "name": "stdout",
     "output_type": "stream",
     "text": [
      "🔄 Loading environment and dependencies...\n",
      "✅ Loading environment variables from .env file...\n",
      "✅ OpenAI API key loaded successfully\n",
      "✅ Rich console formatting enabled\n",
      "🎯 All imports completed successfully!\n",
      "🕐 Setup completed at: 2025-06-13 10:02:50\n",
      "============================================================\n"
     ]
    }
   ],
   "source": [
    "# ========================================\n",
    "# CORE IMPORTS & ENVIRONMENT SETUP\n",
    "# ========================================\n",
    "\n",
    "print(\"🔄 Loading environment and dependencies...\")\n",
    "\n",
    "# Core Python libraries\n",
    "import os\n",
    "from datetime import datetime\n",
    "from typing import Optional, List\n",
    "\n",
    "# Environment management\n",
    "from dotenv import load_dotenv\n",
    "print(\"✅ Loading environment variables from .env file...\")\n",
    "load_dotenv()\n",
    "\n",
    "# Validate critical environment variables\n",
    "if not os.getenv(\"OPENAI_API_KEY\"):\n",
    "    print(\"⚠️  WARNING: OPENAI_API_KEY not found in environment!\")\n",
    "    print(\"📝 Please set your OpenAI API key in the .env file\")\n",
    "else:\n",
    "    print(\"✅ OpenAI API key loaded successfully\")\n",
    "\n",
    "# PydanticAI imports\n",
    "from pydantic import BaseModel, Field\n",
    "from pydantic_ai import Agent\n",
    "from pydantic_ai.providers.openai import OpenAIProvider\n",
    "from pydantic_ai.models.openai import OpenAIModel\n",
    "\n",
    "# Apply nest_asyncio to allow nested event loops\n",
    "import nest_asyncio\n",
    "nest_asyncio.apply() \n",
    "\n",
    "# Rich for beautiful console output\n",
    "try:\n",
    "    from rich.console import Console\n",
    "    from rich.panel import Panel\n",
    "    from rich.table import Table\n",
    "    from rich import print as rprint\n",
    "    console = Console()\n",
    "    print(\"✅ Rich console formatting enabled\")\n",
    "except ImportError:\n",
    "    print(\"⚠️  Rich not available, using standard print\")\n",
    "    console = None\n",
    "    rprint = print\n",
    "\n",
    "print(\"🎯 All imports completed successfully!\")\n",
    "print(f\"🕐 Setup completed at: {datetime.now().strftime('%Y-%m-%d %H:%M:%S')}\")\n",
    "print(\"=\"*60)"
   ]
  },
  {
   "cell_type": "markdown",
   "id": "19fbfc58",
   "metadata": {},
   "source": [
    "## 📋 **Step 3: Define Structured Output Schemas**\n",
    "\n",
    "Here we define the data structures that our sales agents will use for their responses. Using Pydantic models ensures:\n",
    "\n",
    "### 🔍 **Schema Benefits:**\n",
    "- **Type Safety**: Ensures all outputs follow the expected format\n",
    "- **Validation**: Automatic validation of agent responses\n",
    "- **Documentation**: Self-documenting code with field descriptions\n",
    "- **Consistency**: Standardized output across all agent interactions\n",
    "\n",
    "### 📊 **Schema Structure:**\n",
    "Our schemas capture different aspects of sales responses:\n",
    "- **Basic sales answer**: Core response with confidence scoring\n",
    "- **Detailed sales analysis**: Comprehensive breakdown with metrics\n",
    "- **Reflection metadata**: Quality assessment and improvement suggestions"
   ]
  },
  {
   "cell_type": "code",
   "execution_count": 18,
   "id": "f08d6db7",
   "metadata": {},
   "outputs": [
    {
     "name": "stdout",
     "output_type": "stream",
     "text": [
      "🔧 Creating structured output schemas for sales agents...\n",
      "✅ SalesAnswer schema created with fields:\n",
      "   - answer: Main response content\n",
      "   - confidence_score: AI confidence level\n",
      "   - key_points: Extracted action items\n",
      "   - sales_category: Topic classification\n",
      "✅ ReflectionAnalysis schema created with fields:\n",
      "   - reviewed_answer: Refined response\n",
      "   - quality_score: Original answer assessment\n",
      "   - improvements_made: Specific enhancements\n",
      "   - missing_elements: Gaps identified\n",
      "   - additional_considerations: Extra insights\n",
      "🎯 Schema definitions completed!\n",
      "============================================================\n"
     ]
    }
   ],
   "source": [
    "# ========================================\n",
    "# DEFINE STRUCTURED OUTPUT SCHEMAS\n",
    "# ========================================\n",
    "\n",
    "print(\"🔧 Creating structured output schemas for sales agents...\")\n",
    "\n",
    "class SalesAnswer(BaseModel):\n",
    "    \"\"\"\n",
    "    Primary response schema for sales-related questions.\n",
    "    Includes comprehensive answer with metadata for tracking.\n",
    "    \"\"\"\n",
    "    answer: str = Field(\n",
    "        description=\"Comprehensive sales answer or advice\",\n",
    "        min_length=50\n",
    "    )\n",
    "    confidence_score: float = Field(\n",
    "        description=\"Confidence level (0.0 to 1.0) in the provided answer\",\n",
    "        ge=0.0,\n",
    "        le=1.0,\n",
    "        default=0.8\n",
    "    )\n",
    "    key_points: List[str] = Field(\n",
    "        description=\"Main takeaways or action items from the answer\",\n",
    "        default_factory=list\n",
    "    )\n",
    "    sales_category: str = Field(\n",
    "        description=\"Category of sales topic addressed\",\n",
    "        default=\"general\"\n",
    "    )\n",
    "\n",
    "print(\"✅ SalesAnswer schema created with fields:\")\n",
    "print(\"   - answer: Main response content\")\n",
    "print(\"   - confidence_score: AI confidence level\")\n",
    "print(\"   - key_points: Extracted action items\")\n",
    "print(\"   - sales_category: Topic classification\")\n",
    "\n",
    "class ReflectionAnalysis(BaseModel):\n",
    "    \"\"\"\n",
    "    Schema for reflection agent responses.\n",
    "    Provides detailed analysis and improvement suggestions.\n",
    "    \"\"\"\n",
    "    reviewed_answer: str = Field(\n",
    "        description=\"Improved or validated version of the original answer\"\n",
    "    )\n",
    "    quality_score: float = Field(\n",
    "        description=\"Quality assessment of original answer (0.0 to 1.0)\",\n",
    "        ge=0.0,\n",
    "        le=1.0\n",
    "    )\n",
    "    improvements_made: List[str] = Field(\n",
    "        description=\"List of specific improvements or corrections made\",\n",
    "        default_factory=list\n",
    "    )\n",
    "    missing_elements: List[str] = Field(\n",
    "        description=\"Important aspects that were missing from original answer\",\n",
    "        default_factory=list\n",
    "    )\n",
    "    additional_considerations: Optional[str] = Field(\n",
    "        description=\"Extra insights or considerations for the sales scenario\",\n",
    "        default=None\n",
    "    )\n",
    "\n",
    "print(\"✅ ReflectionAnalysis schema created with fields:\")\n",
    "print(\"   - reviewed_answer: Refined response\")\n",
    "print(\"   - quality_score: Original answer assessment\")\n",
    "print(\"   - improvements_made: Specific enhancements\")\n",
    "print(\"   - missing_elements: Gaps identified\")\n",
    "print(\"   - additional_considerations: Extra insights\")\n",
    "\n",
    "print(\"🎯 Schema definitions completed!\")\n",
    "print(\"=\"*60)\n"
   ]
  },
  {
   "cell_type": "markdown",
   "id": "f363d123",
   "metadata": {},
   "source": [
    "## 🤖 **Step 4: Initialize the Primary Sales Agent**\n",
    "\n",
    "Now we create our first agent - the Primary Sales Agent. This agent will:\n",
    "\n",
    "### 🎯 **Agent Capabilities:**\n",
    "- **Expert Knowledge**: Comprehensive understanding of sales strategies, techniques, and best practices\n",
    "- **Structured Output**: Returns responses using our `SalesAnswer` schema\n",
    "- **Context Awareness**: Adapts responses based on sales scenarios and contexts\n",
    "- **Professional Guidance**: Provides actionable advice for real-world sales situations\n",
    "\n",
    "### 🔧 **Configuration Details:**\n",
    "- **Model**: GPT-3.5-turbo for balanced performance and cost\n",
    "- **Output Schema**: `SalesAnswer` with confidence scoring and key points\n",
    "- **System Role**: Professional sales expert and advisor\n",
    "- **Temperature**: Controlled for consistent, professional responses"
   ]
  },
  {
   "cell_type": "code",
   "execution_count": 19,
   "id": "3c07e200",
   "metadata": {},
   "outputs": [
    {
     "name": "stdout",
     "output_type": "stream",
     "text": [
      "🚀 Initializing Primary Sales Agent...\n",
      "📋 Model Configuration:\n",
      "   - Model: gpt-4o\n",
      "   - Temperature: 0.7\n",
      "   - API Key: ✅ Loaded\n",
      "✅ Primary Sales Agent initialized successfully!\n",
      "🎯 Agent configured with:\n",
      "   - Output Type: SalesAnswer (structured response)\n",
      "   - System Role: Expert Sales Professional\n",
      "   - Focus: Comprehensive, actionable sales advice\n",
      "============================================================\n"
     ]
    }
   ],
   "source": [
    "# ========================================\n",
    "# INITIALIZE PRIMARY SALES AGENT  \n",
    "# ========================================\n",
    "\n",
    "print(\"🚀 Initializing Primary Sales Agent...\")\n",
    "\n",
    "# Configure the OpenAI model with environment variables\n",
    "model_name = os.getenv(\"OPENAI_MODEL_NAME\", \"gpt-3.5-turbo\")\n",
    "model_temperature = float(os.getenv(\"OPENAI_MODEL_TEMPERATURE\", \"0.7\"))\n",
    "\n",
    "print(f\"📋 Model Configuration:\")\n",
    "print(f\"   - Model: {model_name}\")\n",
    "print(f\"   - Temperature: {model_temperature}\")\n",
    "print(f\"   - API Key: {'✅ Loaded' if os.getenv('OPENAI_API_KEY') else '❌ Missing'}\")\n",
    "\n",
    "model = OpenAIModel(\n",
    "    model_name=model_name,\n",
    "    provider=OpenAIProvider(api_key=os.getenv(\"OPENAI_API_KEY\"))\n",
    ")\n",
    "\n",
    "# Create the Primary Sales Agent with comprehensive system prompt\n",
    "sales_agent = Agent(\n",
    "    model=model,\n",
    "    output_type=SalesAnswer,\n",
    "    system_prompt=(\n",
    "        \"You are an expert sales professional and business development specialist with over 15 years of experience. \"\n",
    "        \"Your expertise spans B2B sales, enterprise sales, SaaS sales, consultative selling, and sales leadership. \"\n",
    "        \"\\n\\nYour role is to provide comprehensive, actionable sales advice that includes:\"\n",
    "        \"\\n- Strategic sales approaches and methodologies\"\n",
    "        \"\\n- Practical techniques for prospecting, qualifying, and closing\"\n",
    "        \"\\n- Relationship building and customer success strategies\"\n",
    "        \"\\n- Objection handling and negotiation tactics\"\n",
    "        \"\\n- Sales process optimization and performance improvement\"\n",
    "        \"\\n\\nAlways provide specific, implementable advice with clear action items. \"\n",
    "        \"Include confidence levels and categorize your responses appropriately. \"\n",
    "        \"Focus on ethical, relationship-based selling approaches that create mutual value.\"\n",
    "    )\n",
    ")\n",
    "\n",
    "print(\"✅ Primary Sales Agent initialized successfully!\")\n",
    "print(\"🎯 Agent configured with:\")\n",
    "print(\"   - Output Type: SalesAnswer (structured response)\")\n",
    "print(\"   - System Role: Expert Sales Professional\")\n",
    "print(\"   - Focus: Comprehensive, actionable sales advice\")\n",
    "print(\"=\"*60)"
   ]
  },
  {
   "cell_type": "markdown",
   "id": "9215e826",
   "metadata": {},
   "source": [
    "## 💬 **Step 5: Test the Primary Sales Agent**\n",
    "\n",
    "Let's test our Primary Sales Agent with a real-world sales scenario. We'll use a common sales challenge that many professionals face:\n",
    "\n",
    "### 🎯 **Test Scenario:**\n",
    "We'll ask about handling price objections - one of the most common challenges in sales.\n",
    "\n",
    "### 🔍 **What to Observe:**\n",
    "- **Structured Output**: Note how the response follows our `SalesAnswer` schema\n",
    "- **Confidence Scoring**: See the AI's confidence in its advice\n",
    "- **Key Points**: Actionable takeaways for immediate implementation\n",
    "- **Categorization**: How the AI classifies the sales topic\n",
    "- **Comprehensive Advice**: Detailed, practical guidance\n",
    "\n",
    "### 📊 **Response Analysis:**\n",
    "The agent will provide a comprehensive response that demonstrates its understanding of sales dynamics and ability to offer practical solutions."
   ]
  },
  {
   "cell_type": "code",
   "execution_count": 20,
   "id": "f1cb63ec",
   "metadata": {},
   "outputs": [
    {
     "name": "stdout",
     "output_type": "stream",
     "text": [
      "💬 Testing Primary Sales Agent with real-world scenario...\n",
      "============================================================\n",
      "🎯 Sales Question:\n",
      "   How do I effectively handle price objections from enterprise clients who say \n",
      "our solution is too expensive compared to competitors? I need practical strategies \n",
      "that work in B2B SaaS sales where the deal sizes are typically $50K-200K annually.\n",
      "\n",
      "🔄 Processing with Primary Sales Agent...\n",
      "✅ Response generated in 13.43 seconds\n",
      "============================================================\n"
     ]
    },
    {
     "data": {
      "text/html": [
       "<pre style=\"white-space:pre;overflow-x:auto;line-height:normal;font-family:Menlo,'DejaVu Sans Mono',consolas,'Courier New',monospace\">\n",
       "<span style=\"color: #008000; text-decoration-color: #008000; font-weight: bold\">🎯 PRIMARY SALES AGENT RESPONSE</span>\n",
       "</pre>\n"
      ],
      "text/plain": [
       "\n",
       "\u001b[1;32m🎯 PRIMARY SALES AGENT RESPONSE\u001b[0m\n"
      ]
     },
     "metadata": {},
     "output_type": "display_data"
    },
    {
     "data": {
      "text/html": [
       "<pre style=\"white-space:pre;overflow-x:auto;line-height:normal;font-family:Menlo,'DejaVu Sans Mono',consolas,'Courier New',monospace\">┏━━━━━━━━━━━━━━━━━━━━━━┳━━━━━━━━━━━━━━━━━━━━━━━━━━━━━━━━━━━━━━━━━━━━━━━━━━━━━━━━━━━━━━━━┓\n",
       "┃<span style=\"color: #800080; text-decoration-color: #800080; font-weight: bold\"> Field                </span>┃<span style=\"color: #800080; text-decoration-color: #800080; font-weight: bold\"> Value                                                          </span>┃\n",
       "┡━━━━━━━━━━━━━━━━━━━━━━╇━━━━━━━━━━━━━━━━━━━━━━━━━━━━━━━━━━━━━━━━━━━━━━━━━━━━━━━━━━━━━━━━┩\n",
       "│<span style=\"color: #008080; text-decoration-color: #008080\"> Confidence Score     </span>│<span style=\"color: #c0c0c0; text-decoration-color: #c0c0c0\"> 90.0%                                                          </span>│\n",
       "│<span style=\"color: #008080; text-decoration-color: #008080\"> Sales Category       </span>│<span style=\"color: #c0c0c0; text-decoration-color: #c0c0c0\"> Objection Handling, Negotiation Tactics, Relationship Building </span>│\n",
       "│<span style=\"color: #008080; text-decoration-color: #008080\"> Key Points Count     </span>│<span style=\"color: #c0c0c0; text-decoration-color: #c0c0c0\"> 5                                                              </span>│\n",
       "└──────────────────────┴────────────────────────────────────────────────────────────────┘\n",
       "</pre>\n"
      ],
      "text/plain": [
       "┏━━━━━━━━━━━━━━━━━━━━━━┳━━━━━━━━━━━━━━━━━━━━━━━━━━━━━━━━━━━━━━━━━━━━━━━━━━━━━━━━━━━━━━━━┓\n",
       "┃\u001b[1;35m \u001b[0m\u001b[1;35mField               \u001b[0m\u001b[1;35m \u001b[0m┃\u001b[1;35m \u001b[0m\u001b[1;35mValue                                                         \u001b[0m\u001b[1;35m \u001b[0m┃\n",
       "┡━━━━━━━━━━━━━━━━━━━━━━╇━━━━━━━━━━━━━━━━━━━━━━━━━━━━━━━━━━━━━━━━━━━━━━━━━━━━━━━━━━━━━━━━┩\n",
       "│\u001b[36m \u001b[0m\u001b[36mConfidence Score    \u001b[0m\u001b[36m \u001b[0m│\u001b[37m \u001b[0m\u001b[37m90.0%                                                         \u001b[0m\u001b[37m \u001b[0m│\n",
       "│\u001b[36m \u001b[0m\u001b[36mSales Category      \u001b[0m\u001b[36m \u001b[0m│\u001b[37m \u001b[0m\u001b[37mObjection Handling, Negotiation Tactics, Relationship Building\u001b[0m\u001b[37m \u001b[0m│\n",
       "│\u001b[36m \u001b[0m\u001b[36mKey Points Count    \u001b[0m\u001b[36m \u001b[0m│\u001b[37m \u001b[0m\u001b[37m5                                                             \u001b[0m\u001b[37m \u001b[0m│\n",
       "└──────────────────────┴────────────────────────────────────────────────────────────────┘\n"
      ]
     },
     "metadata": {},
     "output_type": "display_data"
    },
    {
     "data": {
      "text/html": [
       "<pre style=\"white-space:pre;overflow-x:auto;line-height:normal;font-family:Menlo,'DejaVu Sans Mono',consolas,'Courier New',monospace\"><span style=\"color: #000080; text-decoration-color: #000080\">╭────────────────────────────────────────── </span><span style=\"color: #000080; text-decoration-color: #000080; font-weight: bold\">Comprehensive Sales Advice</span><span style=\"color: #000080; text-decoration-color: #000080\"> ───────────────────────────────────────────╮</span>\n",
       "<span style=\"color: #000080; text-decoration-color: #000080\">│</span> Handling price objections effectively in enterprise B2B SaaS sales requires a strategic approach that focuses   <span style=\"color: #000080; text-decoration-color: #000080\">│</span>\n",
       "<span style=\"color: #000080; text-decoration-color: #000080\">│</span> on demonstrating value, understanding client needs, and negotiating terms that highlight the unique benefits of <span style=\"color: #000080; text-decoration-color: #000080\">│</span>\n",
       "<span style=\"color: #000080; text-decoration-color: #000080\">│</span> your solution. Here are several practical strategies you can use:                                               <span style=\"color: #000080; text-decoration-color: #000080\">│</span>\n",
       "<span style=\"color: #000080; text-decoration-color: #000080\">│</span>                                                                                                                 <span style=\"color: #000080; text-decoration-color: #000080\">│</span>\n",
       "<span style=\"color: #000080; text-decoration-color: #000080\">│</span> 1. **Understand the Root Objection:** Begin by asking open-ended questions to uncover the underlying reasons    <span style=\"color: #000080; text-decoration-color: #000080\">│</span>\n",
       "<span style=\"color: #000080; text-decoration-color: #000080\">│</span> for their price concern. e.g., “Can you share more about what specifically seems too high compared to           <span style=\"color: #000080; text-decoration-color: #000080\">│</span>\n",
       "<span style=\"color: #000080; text-decoration-color: #000080\">│</span> competitors?” This helps you identify whether the objection is based on budget, perceived value, or comparison  <span style=\"color: #000080; text-decoration-color: #000080\">│</span>\n",
       "<span style=\"color: #000080; text-decoration-color: #000080\">│</span> with competitors.                                                                                               <span style=\"color: #000080; text-decoration-color: #000080\">│</span>\n",
       "<span style=\"color: #000080; text-decoration-color: #000080\">│</span>                                                                                                                 <span style=\"color: #000080; text-decoration-color: #000080\">│</span>\n",
       "<span style=\"color: #000080; text-decoration-color: #000080\">│</span> 2. **Value Proposition Emphasis:** Clearly articulate and align your solution’s value with the client’s         <span style=\"color: #000080; text-decoration-color: #000080\">│</span>\n",
       "<span style=\"color: #000080; text-decoration-color: #000080\">│</span> specific business outcomes. Showcase case studies or data that demonstrate the ROI and cost savings achieved by <span style=\"color: #000080; text-decoration-color: #000080\">│</span>\n",
       "<span style=\"color: #000080; text-decoration-color: #000080\">│</span> businesses similar to theirs. This helps shift focus from price to the overall business impact.                 <span style=\"color: #000080; text-decoration-color: #000080\">│</span>\n",
       "<span style=\"color: #000080; text-decoration-color: #000080\">│</span>                                                                                                                 <span style=\"color: #000080; text-decoration-color: #000080\">│</span>\n",
       "<span style=\"color: #000080; text-decoration-color: #000080\">│</span> 3. **Competitive Differentiation:** Highlight unique features, support, integration capabilities, scalability,  <span style=\"color: #000080; text-decoration-color: #000080\">│</span>\n",
       "<span style=\"color: #000080; text-decoration-color: #000080\">│</span> and any bespoke solutions your product offers that competitors do not. This reinforces why choosing your        <span style=\"color: #000080; text-decoration-color: #000080\">│</span>\n",
       "<span style=\"color: #000080; text-decoration-color: #000080\">│</span> solution is economically advantageous in the long run.                                                          <span style=\"color: #000080; text-decoration-color: #000080\">│</span>\n",
       "<span style=\"color: #000080; text-decoration-color: #000080\">│</span>                                                                                                                 <span style=\"color: #000080; text-decoration-color: #000080\">│</span>\n",
       "<span style=\"color: #000080; text-decoration-color: #000080\">│</span> 4. **Bundle and Incentivize:** Offer bundled packages or limited-time incentives that add value without         <span style=\"color: #000080; text-decoration-color: #000080\">│</span>\n",
       "<span style=\"color: #000080; text-decoration-color: #000080\">│</span> significant cost reduction. For example, including premium support for the first year can sweeten the deal and  <span style=\"color: #000080; text-decoration-color: #000080\">│</span>\n",
       "<span style=\"color: #000080; text-decoration-color: #000080\">│</span> justify the pricing.                                                                                            <span style=\"color: #000080; text-decoration-color: #000080\">│</span>\n",
       "<span style=\"color: #000080; text-decoration-color: #000080\">│</span>                                                                                                                 <span style=\"color: #000080; text-decoration-color: #000080\">│</span>\n",
       "<span style=\"color: #000080; text-decoration-color: #000080\">│</span> 5. **Risk Reduction:** Propose terms that minimize the client’s perceived risk, such as trial periods,          <span style=\"color: #000080; text-decoration-color: #000080\">│</span>\n",
       "<span style=\"color: #000080; text-decoration-color: #000080\">│</span> performance guarantees, or flexible contracts that allow for growth and adjustments over time.                  <span style=\"color: #000080; text-decoration-color: #000080\">│</span>\n",
       "<span style=\"color: #000080; text-decoration-color: #000080\">│</span>                                                                                                                 <span style=\"color: #000080; text-decoration-color: #000080\">│</span>\n",
       "<span style=\"color: #000080; text-decoration-color: #000080\">│</span> 6. **Negotiate based on volume or long-term commitment:** Offer price adjustments for larger volume purchases   <span style=\"color: #000080; text-decoration-color: #000080\">│</span>\n",
       "<span style=\"color: #000080; text-decoration-color: #000080\">│</span> or longer contractual commitments, ensuring the client sees it as a win-win scenario.                           <span style=\"color: #000080; text-decoration-color: #000080\">│</span>\n",
       "<span style=\"color: #000080; text-decoration-color: #000080\">│</span>                                                                                                                 <span style=\"color: #000080; text-decoration-color: #000080\">│</span>\n",
       "<span style=\"color: #000080; text-decoration-color: #000080\">│</span> 7. **Build Strong Relationships:** Develop rapport and trust with stakeholders through regular interactions,    <span style=\"color: #000080; text-decoration-color: #000080\">│</span>\n",
       "<span style=\"color: #000080; text-decoration-color: #000080\">│</span> allowing you to better understand their financial constraints and positively influence their purchasing         <span style=\"color: #000080; text-decoration-color: #000080\">│</span>\n",
       "<span style=\"color: #000080; text-decoration-color: #000080\">│</span> decisions over time.                                                                                            <span style=\"color: #000080; text-decoration-color: #000080\">│</span>\n",
       "<span style=\"color: #000080; text-decoration-color: #000080\">│</span>                                                                                                                 <span style=\"color: #000080; text-decoration-color: #000080\">│</span>\n",
       "<span style=\"color: #000080; text-decoration-color: #000080\">│</span> By consistently demonstrating how your solution provides superior value that outweighs its cost, and creatively <span style=\"color: #000080; text-decoration-color: #000080\">│</span>\n",
       "<span style=\"color: #000080; text-decoration-color: #000080\">│</span> negotiating terms, you can effectively manage and overcome price objections.                                    <span style=\"color: #000080; text-decoration-color: #000080\">│</span>\n",
       "<span style=\"color: #000080; text-decoration-color: #000080\">│</span>                                                                                                                 <span style=\"color: #000080; text-decoration-color: #000080\">│</span>\n",
       "<span style=\"color: #000080; text-decoration-color: #000080\">│</span> **Confidence Score:** 0.9                                                                                       <span style=\"color: #000080; text-decoration-color: #000080\">│</span>\n",
       "<span style=\"color: #000080; text-decoration-color: #000080\">│</span>                                                                                                                 <span style=\"color: #000080; text-decoration-color: #000080\">│</span>\n",
       "<span style=\"color: #000080; text-decoration-color: #000080\">│</span> **Key Points:**                                                                                                 <span style=\"color: #000080; text-decoration-color: #000080\">│</span>\n",
       "<span style=\"color: #000080; text-decoration-color: #000080\">│</span> - Understand the root of the price objection.                                                                   <span style=\"color: #000080; text-decoration-color: #000080\">│</span>\n",
       "<span style=\"color: #000080; text-decoration-color: #000080\">│</span> - Emphasize your value proposition and ROI.                                                                     <span style=\"color: #000080; text-decoration-color: #000080\">│</span>\n",
       "<span style=\"color: #000080; text-decoration-color: #000080\">│</span> - Highlight unique features and differentiation.                                                                <span style=\"color: #000080; text-decoration-color: #000080\">│</span>\n",
       "<span style=\"color: #000080; text-decoration-color: #000080\">│</span> - Offer bundled packages or incentives.                                                                         <span style=\"color: #000080; text-decoration-color: #000080\">│</span>\n",
       "<span style=\"color: #000080; text-decoration-color: #000080\">│</span> - Mitigate risk with trials or flexible terms.                                                                  <span style=\"color: #000080; text-decoration-color: #000080\">│</span>\n",
       "<span style=\"color: #000080; text-decoration-color: #000080\">│</span>                                                                                                                 <span style=\"color: #000080; text-decoration-color: #000080\">│</span>\n",
       "<span style=\"color: #000080; text-decoration-color: #000080\">│</span> **Sales Category:** Objection Handling, Negotiation Tactics, Relationship Building                              <span style=\"color: #000080; text-decoration-color: #000080\">│</span>\n",
       "<span style=\"color: #000080; text-decoration-color: #000080\">╰─────────────────────────────────────────────────────────────────────────────────────────────────────────────────╯</span>\n",
       "</pre>\n"
      ],
      "text/plain": [
       "\u001b[34m╭─\u001b[0m\u001b[34m─────────────────────────────────────────\u001b[0m\u001b[34m \u001b[0m\u001b[1;34mComprehensive Sales Advice\u001b[0m\u001b[34m \u001b[0m\u001b[34m──────────────────────────────────────────\u001b[0m\u001b[34m─╮\u001b[0m\n",
       "\u001b[34m│\u001b[0m Handling price objections effectively in enterprise B2B SaaS sales requires a strategic approach that focuses   \u001b[34m│\u001b[0m\n",
       "\u001b[34m│\u001b[0m on demonstrating value, understanding client needs, and negotiating terms that highlight the unique benefits of \u001b[34m│\u001b[0m\n",
       "\u001b[34m│\u001b[0m your solution. Here are several practical strategies you can use:                                               \u001b[34m│\u001b[0m\n",
       "\u001b[34m│\u001b[0m                                                                                                                 \u001b[34m│\u001b[0m\n",
       "\u001b[34m│\u001b[0m 1. **Understand the Root Objection:** Begin by asking open-ended questions to uncover the underlying reasons    \u001b[34m│\u001b[0m\n",
       "\u001b[34m│\u001b[0m for their price concern. e.g., “Can you share more about what specifically seems too high compared to           \u001b[34m│\u001b[0m\n",
       "\u001b[34m│\u001b[0m competitors?” This helps you identify whether the objection is based on budget, perceived value, or comparison  \u001b[34m│\u001b[0m\n",
       "\u001b[34m│\u001b[0m with competitors.                                                                                               \u001b[34m│\u001b[0m\n",
       "\u001b[34m│\u001b[0m                                                                                                                 \u001b[34m│\u001b[0m\n",
       "\u001b[34m│\u001b[0m 2. **Value Proposition Emphasis:** Clearly articulate and align your solution’s value with the client’s         \u001b[34m│\u001b[0m\n",
       "\u001b[34m│\u001b[0m specific business outcomes. Showcase case studies or data that demonstrate the ROI and cost savings achieved by \u001b[34m│\u001b[0m\n",
       "\u001b[34m│\u001b[0m businesses similar to theirs. This helps shift focus from price to the overall business impact.                 \u001b[34m│\u001b[0m\n",
       "\u001b[34m│\u001b[0m                                                                                                                 \u001b[34m│\u001b[0m\n",
       "\u001b[34m│\u001b[0m 3. **Competitive Differentiation:** Highlight unique features, support, integration capabilities, scalability,  \u001b[34m│\u001b[0m\n",
       "\u001b[34m│\u001b[0m and any bespoke solutions your product offers that competitors do not. This reinforces why choosing your        \u001b[34m│\u001b[0m\n",
       "\u001b[34m│\u001b[0m solution is economically advantageous in the long run.                                                          \u001b[34m│\u001b[0m\n",
       "\u001b[34m│\u001b[0m                                                                                                                 \u001b[34m│\u001b[0m\n",
       "\u001b[34m│\u001b[0m 4. **Bundle and Incentivize:** Offer bundled packages or limited-time incentives that add value without         \u001b[34m│\u001b[0m\n",
       "\u001b[34m│\u001b[0m significant cost reduction. For example, including premium support for the first year can sweeten the deal and  \u001b[34m│\u001b[0m\n",
       "\u001b[34m│\u001b[0m justify the pricing.                                                                                            \u001b[34m│\u001b[0m\n",
       "\u001b[34m│\u001b[0m                                                                                                                 \u001b[34m│\u001b[0m\n",
       "\u001b[34m│\u001b[0m 5. **Risk Reduction:** Propose terms that minimize the client’s perceived risk, such as trial periods,          \u001b[34m│\u001b[0m\n",
       "\u001b[34m│\u001b[0m performance guarantees, or flexible contracts that allow for growth and adjustments over time.                  \u001b[34m│\u001b[0m\n",
       "\u001b[34m│\u001b[0m                                                                                                                 \u001b[34m│\u001b[0m\n",
       "\u001b[34m│\u001b[0m 6. **Negotiate based on volume or long-term commitment:** Offer price adjustments for larger volume purchases   \u001b[34m│\u001b[0m\n",
       "\u001b[34m│\u001b[0m or longer contractual commitments, ensuring the client sees it as a win-win scenario.                           \u001b[34m│\u001b[0m\n",
       "\u001b[34m│\u001b[0m                                                                                                                 \u001b[34m│\u001b[0m\n",
       "\u001b[34m│\u001b[0m 7. **Build Strong Relationships:** Develop rapport and trust with stakeholders through regular interactions,    \u001b[34m│\u001b[0m\n",
       "\u001b[34m│\u001b[0m allowing you to better understand their financial constraints and positively influence their purchasing         \u001b[34m│\u001b[0m\n",
       "\u001b[34m│\u001b[0m decisions over time.                                                                                            \u001b[34m│\u001b[0m\n",
       "\u001b[34m│\u001b[0m                                                                                                                 \u001b[34m│\u001b[0m\n",
       "\u001b[34m│\u001b[0m By consistently demonstrating how your solution provides superior value that outweighs its cost, and creatively \u001b[34m│\u001b[0m\n",
       "\u001b[34m│\u001b[0m negotiating terms, you can effectively manage and overcome price objections.                                    \u001b[34m│\u001b[0m\n",
       "\u001b[34m│\u001b[0m                                                                                                                 \u001b[34m│\u001b[0m\n",
       "\u001b[34m│\u001b[0m **Confidence Score:** 0.9                                                                                       \u001b[34m│\u001b[0m\n",
       "\u001b[34m│\u001b[0m                                                                                                                 \u001b[34m│\u001b[0m\n",
       "\u001b[34m│\u001b[0m **Key Points:**                                                                                                 \u001b[34m│\u001b[0m\n",
       "\u001b[34m│\u001b[0m - Understand the root of the price objection.                                                                   \u001b[34m│\u001b[0m\n",
       "\u001b[34m│\u001b[0m - Emphasize your value proposition and ROI.                                                                     \u001b[34m│\u001b[0m\n",
       "\u001b[34m│\u001b[0m - Highlight unique features and differentiation.                                                                \u001b[34m│\u001b[0m\n",
       "\u001b[34m│\u001b[0m - Offer bundled packages or incentives.                                                                         \u001b[34m│\u001b[0m\n",
       "\u001b[34m│\u001b[0m - Mitigate risk with trials or flexible terms.                                                                  \u001b[34m│\u001b[0m\n",
       "\u001b[34m│\u001b[0m                                                                                                                 \u001b[34m│\u001b[0m\n",
       "\u001b[34m│\u001b[0m **Sales Category:** Objection Handling, Negotiation Tactics, Relationship Building                              \u001b[34m│\u001b[0m\n",
       "\u001b[34m╰─────────────────────────────────────────────────────────────────────────────────────────────────────────────────╯\u001b[0m\n"
      ]
     },
     "metadata": {},
     "output_type": "display_data"
    },
    {
     "data": {
      "text/html": [
       "<pre style=\"white-space:pre;overflow-x:auto;line-height:normal;font-family:Menlo,'DejaVu Sans Mono',consolas,'Courier New',monospace\">\n",
       "<span style=\"color: #808000; text-decoration-color: #808000; font-weight: bold\">🔑 KEY TAKEAWAYS:</span>\n",
       "</pre>\n"
      ],
      "text/plain": [
       "\n",
       "\u001b[1;33m🔑 KEY TAKEAWAYS:\u001b[0m\n"
      ]
     },
     "metadata": {},
     "output_type": "display_data"
    },
    {
     "data": {
      "text/html": [
       "<pre style=\"white-space:pre;overflow-x:auto;line-height:normal;font-family:Menlo,'DejaVu Sans Mono',consolas,'Courier New',monospace\">   <span style=\"color: #008080; text-decoration-color: #008080; font-weight: bold\">1</span>. Understand the root of the price objection.\n",
       "</pre>\n"
      ],
      "text/plain": [
       "   \u001b[1;36m1\u001b[0m. Understand the root of the price objection.\n"
      ]
     },
     "metadata": {},
     "output_type": "display_data"
    },
    {
     "data": {
      "text/html": [
       "<pre style=\"white-space:pre;overflow-x:auto;line-height:normal;font-family:Menlo,'DejaVu Sans Mono',consolas,'Courier New',monospace\">   <span style=\"color: #008080; text-decoration-color: #008080; font-weight: bold\">2</span>. Emphasize your value proposition and ROI.\n",
       "</pre>\n"
      ],
      "text/plain": [
       "   \u001b[1;36m2\u001b[0m. Emphasize your value proposition and ROI.\n"
      ]
     },
     "metadata": {},
     "output_type": "display_data"
    },
    {
     "data": {
      "text/html": [
       "<pre style=\"white-space:pre;overflow-x:auto;line-height:normal;font-family:Menlo,'DejaVu Sans Mono',consolas,'Courier New',monospace\">   <span style=\"color: #008080; text-decoration-color: #008080; font-weight: bold\">3</span>. Highlight unique features and differentiation.\n",
       "</pre>\n"
      ],
      "text/plain": [
       "   \u001b[1;36m3\u001b[0m. Highlight unique features and differentiation.\n"
      ]
     },
     "metadata": {},
     "output_type": "display_data"
    },
    {
     "data": {
      "text/html": [
       "<pre style=\"white-space:pre;overflow-x:auto;line-height:normal;font-family:Menlo,'DejaVu Sans Mono',consolas,'Courier New',monospace\">   <span style=\"color: #008080; text-decoration-color: #008080; font-weight: bold\">4</span>. Offer bundled packages or incentives.\n",
       "</pre>\n"
      ],
      "text/plain": [
       "   \u001b[1;36m4\u001b[0m. Offer bundled packages or incentives.\n"
      ]
     },
     "metadata": {},
     "output_type": "display_data"
    },
    {
     "data": {
      "text/html": [
       "<pre style=\"white-space:pre;overflow-x:auto;line-height:normal;font-family:Menlo,'DejaVu Sans Mono',consolas,'Courier New',monospace\">   <span style=\"color: #008080; text-decoration-color: #008080; font-weight: bold\">5</span>. Mitigate risk with trials or flexible terms.\n",
       "</pre>\n"
      ],
      "text/plain": [
       "   \u001b[1;36m5\u001b[0m. Mitigate risk with trials or flexible terms.\n"
      ]
     },
     "metadata": {},
     "output_type": "display_data"
    },
    {
     "name": "stdout",
     "output_type": "stream",
     "text": [
      "\n",
      "============================================================\n",
      "🔄 Ready for reflection analysis...\n"
     ]
    }
   ],
   "source": [
    "# ========================================\n",
    "# TEST PRIMARY SALES AGENT\n",
    "# ========================================\n",
    "\n",
    "print(\"💬 Testing Primary Sales Agent with real-world scenario...\")\n",
    "print(\"=\"*60)\n",
    "\n",
    "# Define a comprehensive sales question\n",
    "sales_question = \"\"\"\n",
    "How do I effectively handle price objections from enterprise clients who say \n",
    "our solution is too expensive compared to competitors? I need practical strategies \n",
    "that work in B2B SaaS sales where the deal sizes are typically $50K-200K annually.\n",
    "\"\"\"\n",
    "\n",
    "print(f\"🎯 Sales Question:\")\n",
    "print(f\"   {sales_question.strip()}\")\n",
    "print(\"\\n🔄 Processing with Primary Sales Agent...\")\n",
    "\n",
    "# Run the sales agent and capture detailed timing\n",
    "start_time = datetime.now()\n",
    "primary_result = sales_agent.run_sync(sales_question) # PydanticAI agent.run_sync() is a synchronous wrapper for agent.run()\n",
    "end_time = datetime.now()\n",
    "processing_time = (end_time - start_time).total_seconds()\n",
    "\n",
    "print(f\"✅ Response generated in {processing_time:.2f} seconds\")\n",
    "print(\"=\"*60)\n",
    "\n",
    "# Display structured output with rich formatting\n",
    "if console:\n",
    "    # Use Rich for beautiful output\n",
    "    console.print(\"\\n[bold green]🎯 PRIMARY SALES AGENT RESPONSE[/bold green]\")\n",
    "    \n",
    "    # Create a table for the structured response\n",
    "    table = Table(show_header=True, header_style=\"bold magenta\")\n",
    "    table.add_column(\"Field\", style=\"cyan\", width=20)\n",
    "    table.add_column(\"Value\", style=\"white\")\n",
    "    \n",
    "    table.add_row(\"Confidence Score\", f\"{primary_result.output.confidence_score:.1%}\")\n",
    "    table.add_row(\"Sales Category\", primary_result.output.sales_category)\n",
    "    table.add_row(\"Key Points Count\", str(len(primary_result.output.key_points)))\n",
    "    \n",
    "    console.print(table)\n",
    "    \n",
    "    # Display the main answer in a panel\n",
    "    console.print(Panel(\n",
    "        primary_result.output.answer,\n",
    "        title=\"[bold blue]Comprehensive Sales Advice[/bold blue]\",\n",
    "        border_style=\"blue\"\n",
    "    ))\n",
    "    \n",
    "    # Display key points\n",
    "    if primary_result.output.key_points:\n",
    "        console.print(\"\\n[bold yellow]🔑 KEY TAKEAWAYS:[/bold yellow]\")\n",
    "        for i, point in enumerate(primary_result.output.key_points, 1):\n",
    "            console.print(f\"   {i}. {point}\")\n",
    "else:\n",
    "    # Fallback to standard print\n",
    "    print(\"\\n🎯 PRIMARY SALES AGENT RESPONSE:\")\n",
    "    print(f\"Confidence Score: {primary_result.output.confidence_score:.1%}\")\n",
    "    print(f\"Sales Category: {primary_result.output.sales_category}\")\n",
    "    print(f\"\\n📝 Answer:\")\n",
    "    print(primary_result.output.answer)\n",
    "    \n",
    "    if primary_result.output.key_points:\n",
    "        print(f\"\\n🔑 Key Takeaways:\")\n",
    "        for i, point in enumerate(primary_result.output.key_points, 1):\n",
    "            print(f\"   {i}. {point}\")\n",
    "\n",
    "print(\"\\n\" + \"=\"*60)\n",
    "print(\"🔄 Ready for reflection analysis...\")"
   ]
  },
  {
   "cell_type": "markdown",
   "id": "d9c33621",
   "metadata": {},
   "source": [
    "## 🔍 **Step 6: Initialize the Reflection & Quality Agent**\n",
    "\n",
    "Now we create our second agent - the Reflection & Quality Agent. This agent serves as a quality assurance layer that:\n",
    "\n",
    "### 🎯 **Agent Purpose:**\n",
    "- **Quality Review**: Evaluates the comprehensiveness and accuracy of the primary response\n",
    "- **Gap Analysis**: Identifies missing elements or overlooked considerations\n",
    "- **Enhancement**: Provides improved versions with additional insights\n",
    "- **Validation**: Ensures advice is practical and implementable\n",
    "\n",
    "### 🧠 **Advanced Capabilities:**\n",
    "- **Critical Thinking**: Applies analytical review to sales advice\n",
    "- **Industry Knowledge**: Cross-references best practices and methodologies\n",
    "- **Completeness Check**: Ensures all aspects of the question are addressed\n",
    "- **Improvement Suggestions**: Offers specific enhancements and optimizations\n",
    "\n",
    "### 📊 **Output Schema:**\n",
    "Uses `ReflectionAnalysis` schema for detailed quality assessment and improvement tracking."
   ]
  },
  {
   "cell_type": "code",
   "execution_count": 21,
   "id": "4e7e4ab7",
   "metadata": {},
   "outputs": [
    {
     "name": "stdout",
     "output_type": "stream",
     "text": [
      "🔍 Initializing Reflection & Quality Agent...\n",
      "✅ Reflection & Quality Agent initialized successfully!\n",
      "🎯 Agent configured with:\n",
      "   - Output Type: ReflectionAnalysis (detailed assessment)\n",
      "   - System Role: Senior Sales Director & QA Specialist\n",
      "   - Focus: Quality assurance and continuous improvement\n",
      "============================================================\n"
     ]
    }
   ],
   "source": [
    "# ========================================\n",
    "# INITIALIZE REFLECTION & QUALITY AGENT\n",
    "# ========================================\n",
    "\n",
    "print(\"🔍 Initializing Reflection & Quality Agent...\")\n",
    "\n",
    "# Create the Reflection Agent with advanced quality assessment capabilities\n",
    "reflection_agent = Agent(\n",
    "    model=model,\n",
    "    output_type=ReflectionAnalysis,\n",
    "    system_prompt=(\n",
    "        \"You are a senior sales director and quality assurance specialist with 20+ years of experience \"\n",
    "        \"in sales leadership, training, and methodology development. Your role is to critically review \"\n",
    "        \"and enhance sales advice to ensure it meets the highest professional standards.\\n\\n\"\n",
    "        \n",
    "        \"Your responsibilities include:\\n\"\n",
    "        \"• QUALITY ASSESSMENT: Evaluate the accuracy, completeness, and practicality of sales advice\\n\"\n",
    "        \"• GAP ANALYSIS: Identify missing elements, overlooked strategies, or incomplete considerations\\n\"\n",
    "        \"• ENHANCEMENT: Improve responses with additional insights, methodologies, or best practices\\n\"\n",
    "        \"• VALIDATION: Ensure all advice is ethical, relationship-focused, and results-oriented\\n\"\n",
    "        \"• SCORING: Provide objective quality scores based on comprehensiveness and actionability\\n\\n\"\n",
    "        \n",
    "        \"Review each response through these lenses:\\n\"\n",
    "        \"1. Strategic completeness - Are all key aspects covered?\\n\"\n",
    "        \"2. Tactical specificity - Are the recommendations specific and actionable?\\n\"\n",
    "        \"3. Industry relevance - Does it address the specific context and industry?\\n\"\n",
    "        \"4. Ethical alignment - Does it promote value-based, relationship-centric selling?\\n\"\n",
    "        \"5. Practical implementation - Can the advice be immediately applied?\\n\\n\"\n",
    "        \n",
    "        \"Always provide constructive improvements and maintain a focus on long-term relationship building \"\n",
    "        \"and mutual value creation in sales interactions.\"\n",
    "    )\n",
    ")\n",
    "\n",
    "print(\"✅ Reflection & Quality Agent initialized successfully!\")\n",
    "print(\"🎯 Agent configured with:\")\n",
    "print(\"   - Output Type: ReflectionAnalysis (detailed assessment)\")\n",
    "print(\"   - System Role: Senior Sales Director & QA Specialist\")\n",
    "print(\"   - Focus: Quality assurance and continuous improvement\")\n",
    "print(\"=\"*60)"
   ]
  },
  {
   "cell_type": "markdown",
   "id": "a8e9a42c",
   "metadata": {},
   "source": [
    "## 🔄 **Step 7: Run Quality Analysis & Reflection**\n",
    "\n",
    "Now we'll have our Reflection Agent analyze the primary response and provide comprehensive quality assessment:\n",
    "\n",
    "### 🎯 **Reflection Process:**\n",
    "1. **Quality Evaluation**: Assess the original response's comprehensiveness and accuracy\n",
    "2. **Gap Identification**: Find missing elements or overlooked considerations\n",
    "3. **Enhancement Generation**: Create improved version with additional insights\n",
    "4. **Scoring**: Provide objective quality metrics\n",
    "5. **Recommendations**: Offer specific improvement suggestions\n",
    "\n",
    "### 📊 **Expected Outcomes:**\n",
    "- **Quality Score**: Numerical assessment of the original response\n",
    "- **Improved Answer**: Enhanced version with additional insights\n",
    "- **Specific Improvements**: List of enhancements made\n",
    "- **Missing Elements**: Identified gaps in the original response\n",
    "- **Additional Considerations**: Extra insights for the sales scenario\n",
    "\n",
    "### 🔍 **Analysis Focus:**\n",
    "The reflection will evaluate strategic completeness, tactical specificity, industry relevance, and practical implementation."
   ]
  },
  {
   "cell_type": "code",
   "execution_count": 22,
   "id": "ff02eb3f",
   "metadata": {},
   "outputs": [
    {
     "name": "stdout",
     "output_type": "stream",
     "text": [
      "🔄 Running Reflection & Quality Analysis...\n",
      "============================================================\n",
      "🔍 Analyzing primary response for quality and completeness...\n",
      "✅ Quality analysis completed in 14.63 seconds\n",
      "============================================================\n"
     ]
    },
    {
     "data": {
      "text/html": [
       "<pre style=\"white-space:pre;overflow-x:auto;line-height:normal;font-family:Menlo,'DejaVu Sans Mono',consolas,'Courier New',monospace\">\n",
       "<span style=\"color: #800080; text-decoration-color: #800080; font-weight: bold\">🔍 REFLECTION &amp; QUALITY ANALYSIS</span>\n",
       "</pre>\n"
      ],
      "text/plain": [
       "\n",
       "\u001b[1;35m🔍 REFLECTION & QUALITY ANALYSIS\u001b[0m\n"
      ]
     },
     "metadata": {},
     "output_type": "display_data"
    },
    {
     "data": {
      "text/html": [
       "<pre style=\"white-space:pre;overflow-x:auto;line-height:normal;font-family:Menlo,'DejaVu Sans Mono',consolas,'Courier New',monospace\">┏━━━━━━━━━━━━━━━━━━━━━━━━━━━┳━━━━━━━━━━━━━━┓\n",
       "┃<span style=\"color: #008080; text-decoration-color: #008080; font-weight: bold\"> Quality Metric            </span>┃<span style=\"color: #008080; text-decoration-color: #008080; font-weight: bold\"> Score/Result </span>┃\n",
       "┡━━━━━━━━━━━━━━━━━━━━━━━━━━━╇━━━━━━━━━━━━━━┩\n",
       "│<span style=\"color: #808000; text-decoration-color: #808000\"> Original Quality Score    </span>│<span style=\"color: #008000; text-decoration-color: #008000\"> 93.0%        </span>│\n",
       "│<span style=\"color: #808000; text-decoration-color: #808000\"> Improvements Made         </span>│<span style=\"color: #008000; text-decoration-color: #008000\"> 3            </span>│\n",
       "│<span style=\"color: #808000; text-decoration-color: #808000\"> Missing Elements          </span>│<span style=\"color: #008000; text-decoration-color: #008000\"> 2            </span>│\n",
       "│<span style=\"color: #808000; text-decoration-color: #808000\"> Additional Insights       </span>│<span style=\"color: #008000; text-decoration-color: #008000\"> ✅ Provided  </span>│\n",
       "└───────────────────────────┴──────────────┘\n",
       "</pre>\n"
      ],
      "text/plain": [
       "┏━━━━━━━━━━━━━━━━━━━━━━━━━━━┳━━━━━━━━━━━━━━┓\n",
       "┃\u001b[1;36m \u001b[0m\u001b[1;36mQuality Metric           \u001b[0m\u001b[1;36m \u001b[0m┃\u001b[1;36m \u001b[0m\u001b[1;36mScore/Result\u001b[0m\u001b[1;36m \u001b[0m┃\n",
       "┡━━━━━━━━━━━━━━━━━━━━━━━━━━━╇━━━━━━━━━━━━━━┩\n",
       "│\u001b[33m \u001b[0m\u001b[33mOriginal Quality Score   \u001b[0m\u001b[33m \u001b[0m│\u001b[32m \u001b[0m\u001b[32m93.0%       \u001b[0m\u001b[32m \u001b[0m│\n",
       "│\u001b[33m \u001b[0m\u001b[33mImprovements Made        \u001b[0m\u001b[33m \u001b[0m│\u001b[32m \u001b[0m\u001b[32m3           \u001b[0m\u001b[32m \u001b[0m│\n",
       "│\u001b[33m \u001b[0m\u001b[33mMissing Elements         \u001b[0m\u001b[33m \u001b[0m│\u001b[32m \u001b[0m\u001b[32m2           \u001b[0m\u001b[32m \u001b[0m│\n",
       "│\u001b[33m \u001b[0m\u001b[33mAdditional Insights      \u001b[0m\u001b[33m \u001b[0m│\u001b[32m \u001b[0m\u001b[32m✅ Provided \u001b[0m\u001b[32m \u001b[0m│\n",
       "└───────────────────────────┴──────────────┘\n"
      ]
     },
     "metadata": {},
     "output_type": "display_data"
    },
    {
     "data": {
      "text/html": [
       "<pre style=\"white-space:pre;overflow-x:auto;line-height:normal;font-family:Menlo,'DejaVu Sans Mono',consolas,'Courier New',monospace\"><span style=\"color: #008000; text-decoration-color: #008000\">╭─────────────────────────────────────────── </span><span style=\"color: #008000; text-decoration-color: #008000; font-weight: bold\">🎯 ENHANCED SALES ADVICE</span><span style=\"color: #008000; text-decoration-color: #008000\"> ────────────────────────────────────────────╮</span>\n",
       "<span style=\"color: #008000; text-decoration-color: #008000\">│</span> Handling price objections effectively in enterprise B2B SaaS sales requires a strategic approach that focuses   <span style=\"color: #008000; text-decoration-color: #008000\">│</span>\n",
       "<span style=\"color: #008000; text-decoration-color: #008000\">│</span> on demonstrating value, understanding client needs, and negotiating terms that highlight the unique benefits of <span style=\"color: #008000; text-decoration-color: #008000\">│</span>\n",
       "<span style=\"color: #008000; text-decoration-color: #008000\">│</span> your solution. Here are several practical strategies you can use:                                               <span style=\"color: #008000; text-decoration-color: #008000\">│</span>\n",
       "<span style=\"color: #008000; text-decoration-color: #008000\">│</span>                                                                                                                 <span style=\"color: #008000; text-decoration-color: #008000\">│</span>\n",
       "<span style=\"color: #008000; text-decoration-color: #008000\">│</span> 1. **Understand the Root Objection:** Begin by asking open-ended questions to uncover the underlying reasons    <span style=\"color: #008000; text-decoration-color: #008000\">│</span>\n",
       "<span style=\"color: #008000; text-decoration-color: #008000\">│</span> for their price concern. E.g., “Can you share more about what specifically seems too high compared to           <span style=\"color: #008000; text-decoration-color: #008000\">│</span>\n",
       "<span style=\"color: #008000; text-decoration-color: #008000\">│</span> competitors?” This helps identify whether the objection is based on budget, perceived value, or comparison with <span style=\"color: #008000; text-decoration-color: #008000\">│</span>\n",
       "<span style=\"color: #008000; text-decoration-color: #008000\">│</span> competitors.                                                                                                    <span style=\"color: #008000; text-decoration-color: #008000\">│</span>\n",
       "<span style=\"color: #008000; text-decoration-color: #008000\">│</span>                                                                                                                 <span style=\"color: #008000; text-decoration-color: #008000\">│</span>\n",
       "<span style=\"color: #008000; text-decoration-color: #008000\">│</span> 2. **Value Proposition Emphasis:** Clearly articulate and align your solution’s value with the client’s         <span style=\"color: #008000; text-decoration-color: #008000\">│</span>\n",
       "<span style=\"color: #008000; text-decoration-color: #008000\">│</span> specific business outcomes. Showcase case studies or data that demonstrate the ROI and cost savings achieved by <span style=\"color: #008000; text-decoration-color: #008000\">│</span>\n",
       "<span style=\"color: #008000; text-decoration-color: #008000\">│</span> businesses similar to theirs. This helps shift focus from price to the overall business impact.                 <span style=\"color: #008000; text-decoration-color: #008000\">│</span>\n",
       "<span style=\"color: #008000; text-decoration-color: #008000\">│</span>                                                                                                                 <span style=\"color: #008000; text-decoration-color: #008000\">│</span>\n",
       "<span style=\"color: #008000; text-decoration-color: #008000\">│</span> 3. **Competitive Differentiation:** Highlight unique features, support, integration capabilities, scalability,  <span style=\"color: #008000; text-decoration-color: #008000\">│</span>\n",
       "<span style=\"color: #008000; text-decoration-color: #008000\">│</span> and any bespoke solutions your product offers that competitors do not. This reinforces why choosing your        <span style=\"color: #008000; text-decoration-color: #008000\">│</span>\n",
       "<span style=\"color: #008000; text-decoration-color: #008000\">│</span> solution is economically advantageous in the long run.                                                          <span style=\"color: #008000; text-decoration-color: #008000\">│</span>\n",
       "<span style=\"color: #008000; text-decoration-color: #008000\">│</span>                                                                                                                 <span style=\"color: #008000; text-decoration-color: #008000\">│</span>\n",
       "<span style=\"color: #008000; text-decoration-color: #008000\">│</span> 4. **Bundle and Incentivize:** Offer bundled packages or limited-time incentives that add value without         <span style=\"color: #008000; text-decoration-color: #008000\">│</span>\n",
       "<span style=\"color: #008000; text-decoration-color: #008000\">│</span> significant cost reduction. For example, including premium support for the first year can sweeten the deal and  <span style=\"color: #008000; text-decoration-color: #008000\">│</span>\n",
       "<span style=\"color: #008000; text-decoration-color: #008000\">│</span> justify the pricing.                                                                                            <span style=\"color: #008000; text-decoration-color: #008000\">│</span>\n",
       "<span style=\"color: #008000; text-decoration-color: #008000\">│</span>                                                                                                                 <span style=\"color: #008000; text-decoration-color: #008000\">│</span>\n",
       "<span style=\"color: #008000; text-decoration-color: #008000\">│</span> 5. **Risk Reduction:** Propose terms that minimize the client’s perceived risk, such as trial periods,          <span style=\"color: #008000; text-decoration-color: #008000\">│</span>\n",
       "<span style=\"color: #008000; text-decoration-color: #008000\">│</span> performance guarantees, or flexible contracts that allow for growth and adjustments over time.                  <span style=\"color: #008000; text-decoration-color: #008000\">│</span>\n",
       "<span style=\"color: #008000; text-decoration-color: #008000\">│</span>                                                                                                                 <span style=\"color: #008000; text-decoration-color: #008000\">│</span>\n",
       "<span style=\"color: #008000; text-decoration-color: #008000\">│</span> 6. **Negotiate based on volume or long-term commitment:** Offer price adjustments for larger volume purchases   <span style=\"color: #008000; text-decoration-color: #008000\">│</span>\n",
       "<span style=\"color: #008000; text-decoration-color: #008000\">│</span> or longer contractual commitments, ensuring the client sees it as a win-win scenario.                           <span style=\"color: #008000; text-decoration-color: #008000\">│</span>\n",
       "<span style=\"color: #008000; text-decoration-color: #008000\">│</span>                                                                                                                 <span style=\"color: #008000; text-decoration-color: #008000\">│</span>\n",
       "<span style=\"color: #008000; text-decoration-color: #008000\">│</span> 7. **Build Strong Relationships:** Develop rapport and trust with clients through regular interactions,         <span style=\"color: #008000; text-decoration-color: #008000\">│</span>\n",
       "<span style=\"color: #008000; text-decoration-color: #008000\">│</span> allowing you to better understand their financial constraints and positively influence their purchasing         <span style=\"color: #008000; text-decoration-color: #008000\">│</span>\n",
       "<span style=\"color: #008000; text-decoration-color: #008000\">│</span> decisions over time.                                                                                            <span style=\"color: #008000; text-decoration-color: #008000\">│</span>\n",
       "<span style=\"color: #008000; text-decoration-color: #008000\">│</span>                                                                                                                 <span style=\"color: #008000; text-decoration-color: #008000\">│</span>\n",
       "<span style=\"color: #008000; text-decoration-color: #008000\">│</span> 8. **Leverage Social Proof and Testimonials:** Provide testimonials and references from other enterprise        <span style=\"color: #008000; text-decoration-color: #008000\">│</span>\n",
       "<span style=\"color: #008000; text-decoration-color: #008000\">│</span> clients who testify to the value and cost-effectiveness of your solution. This can reassure potential clients   <span style=\"color: #008000; text-decoration-color: #008000\">│</span>\n",
       "<span style=\"color: #008000; text-decoration-color: #008000\">│</span> about the credibility and quality of your offering.                                                             <span style=\"color: #008000; text-decoration-color: #008000\">│</span>\n",
       "<span style=\"color: #008000; text-decoration-color: #008000\">│</span>                                                                                                                 <span style=\"color: #008000; text-decoration-color: #008000\">│</span>\n",
       "<span style=\"color: #008000; text-decoration-color: #008000\">│</span> By consistently demonstrating how your solution provides superior value that outweighs its cost, and creatively <span style=\"color: #008000; text-decoration-color: #008000\">│</span>\n",
       "<span style=\"color: #008000; text-decoration-color: #008000\">│</span> negotiating terms, you can effectively manage and overcome price objections.                                    <span style=\"color: #008000; text-decoration-color: #008000\">│</span>\n",
       "<span style=\"color: #008000; text-decoration-color: #008000\">╰─────────────────────────────────────────────────────────────────────────────────────────────────────────────────╯</span>\n",
       "</pre>\n"
      ],
      "text/plain": [
       "\u001b[32m╭─\u001b[0m\u001b[32m──────────────────────────────────────────\u001b[0m\u001b[32m \u001b[0m\u001b[1;32m🎯 ENHANCED SALES ADVICE\u001b[0m\u001b[32m \u001b[0m\u001b[32m───────────────────────────────────────────\u001b[0m\u001b[32m─╮\u001b[0m\n",
       "\u001b[32m│\u001b[0m Handling price objections effectively in enterprise B2B SaaS sales requires a strategic approach that focuses   \u001b[32m│\u001b[0m\n",
       "\u001b[32m│\u001b[0m on demonstrating value, understanding client needs, and negotiating terms that highlight the unique benefits of \u001b[32m│\u001b[0m\n",
       "\u001b[32m│\u001b[0m your solution. Here are several practical strategies you can use:                                               \u001b[32m│\u001b[0m\n",
       "\u001b[32m│\u001b[0m                                                                                                                 \u001b[32m│\u001b[0m\n",
       "\u001b[32m│\u001b[0m 1. **Understand the Root Objection:** Begin by asking open-ended questions to uncover the underlying reasons    \u001b[32m│\u001b[0m\n",
       "\u001b[32m│\u001b[0m for their price concern. E.g., “Can you share more about what specifically seems too high compared to           \u001b[32m│\u001b[0m\n",
       "\u001b[32m│\u001b[0m competitors?” This helps identify whether the objection is based on budget, perceived value, or comparison with \u001b[32m│\u001b[0m\n",
       "\u001b[32m│\u001b[0m competitors.                                                                                                    \u001b[32m│\u001b[0m\n",
       "\u001b[32m│\u001b[0m                                                                                                                 \u001b[32m│\u001b[0m\n",
       "\u001b[32m│\u001b[0m 2. **Value Proposition Emphasis:** Clearly articulate and align your solution’s value with the client’s         \u001b[32m│\u001b[0m\n",
       "\u001b[32m│\u001b[0m specific business outcomes. Showcase case studies or data that demonstrate the ROI and cost savings achieved by \u001b[32m│\u001b[0m\n",
       "\u001b[32m│\u001b[0m businesses similar to theirs. This helps shift focus from price to the overall business impact.                 \u001b[32m│\u001b[0m\n",
       "\u001b[32m│\u001b[0m                                                                                                                 \u001b[32m│\u001b[0m\n",
       "\u001b[32m│\u001b[0m 3. **Competitive Differentiation:** Highlight unique features, support, integration capabilities, scalability,  \u001b[32m│\u001b[0m\n",
       "\u001b[32m│\u001b[0m and any bespoke solutions your product offers that competitors do not. This reinforces why choosing your        \u001b[32m│\u001b[0m\n",
       "\u001b[32m│\u001b[0m solution is economically advantageous in the long run.                                                          \u001b[32m│\u001b[0m\n",
       "\u001b[32m│\u001b[0m                                                                                                                 \u001b[32m│\u001b[0m\n",
       "\u001b[32m│\u001b[0m 4. **Bundle and Incentivize:** Offer bundled packages or limited-time incentives that add value without         \u001b[32m│\u001b[0m\n",
       "\u001b[32m│\u001b[0m significant cost reduction. For example, including premium support for the first year can sweeten the deal and  \u001b[32m│\u001b[0m\n",
       "\u001b[32m│\u001b[0m justify the pricing.                                                                                            \u001b[32m│\u001b[0m\n",
       "\u001b[32m│\u001b[0m                                                                                                                 \u001b[32m│\u001b[0m\n",
       "\u001b[32m│\u001b[0m 5. **Risk Reduction:** Propose terms that minimize the client’s perceived risk, such as trial periods,          \u001b[32m│\u001b[0m\n",
       "\u001b[32m│\u001b[0m performance guarantees, or flexible contracts that allow for growth and adjustments over time.                  \u001b[32m│\u001b[0m\n",
       "\u001b[32m│\u001b[0m                                                                                                                 \u001b[32m│\u001b[0m\n",
       "\u001b[32m│\u001b[0m 6. **Negotiate based on volume or long-term commitment:** Offer price adjustments for larger volume purchases   \u001b[32m│\u001b[0m\n",
       "\u001b[32m│\u001b[0m or longer contractual commitments, ensuring the client sees it as a win-win scenario.                           \u001b[32m│\u001b[0m\n",
       "\u001b[32m│\u001b[0m                                                                                                                 \u001b[32m│\u001b[0m\n",
       "\u001b[32m│\u001b[0m 7. **Build Strong Relationships:** Develop rapport and trust with clients through regular interactions,         \u001b[32m│\u001b[0m\n",
       "\u001b[32m│\u001b[0m allowing you to better understand their financial constraints and positively influence their purchasing         \u001b[32m│\u001b[0m\n",
       "\u001b[32m│\u001b[0m decisions over time.                                                                                            \u001b[32m│\u001b[0m\n",
       "\u001b[32m│\u001b[0m                                                                                                                 \u001b[32m│\u001b[0m\n",
       "\u001b[32m│\u001b[0m 8. **Leverage Social Proof and Testimonials:** Provide testimonials and references from other enterprise        \u001b[32m│\u001b[0m\n",
       "\u001b[32m│\u001b[0m clients who testify to the value and cost-effectiveness of your solution. This can reassure potential clients   \u001b[32m│\u001b[0m\n",
       "\u001b[32m│\u001b[0m about the credibility and quality of your offering.                                                             \u001b[32m│\u001b[0m\n",
       "\u001b[32m│\u001b[0m                                                                                                                 \u001b[32m│\u001b[0m\n",
       "\u001b[32m│\u001b[0m By consistently demonstrating how your solution provides superior value that outweighs its cost, and creatively \u001b[32m│\u001b[0m\n",
       "\u001b[32m│\u001b[0m negotiating terms, you can effectively manage and overcome price objections.                                    \u001b[32m│\u001b[0m\n",
       "\u001b[32m╰─────────────────────────────────────────────────────────────────────────────────────────────────────────────────╯\u001b[0m\n"
      ]
     },
     "metadata": {},
     "output_type": "display_data"
    },
    {
     "data": {
      "text/html": [
       "<pre style=\"white-space:pre;overflow-x:auto;line-height:normal;font-family:Menlo,'DejaVu Sans Mono',consolas,'Courier New',monospace\">\n",
       "<span style=\"color: #000080; text-decoration-color: #000080; font-weight: bold\">🔧 SPECIFIC IMPROVEMENTS MADE:</span>\n",
       "</pre>\n"
      ],
      "text/plain": [
       "\n",
       "\u001b[1;34m🔧 SPECIFIC IMPROVEMENTS MADE:\u001b[0m\n"
      ]
     },
     "metadata": {},
     "output_type": "display_data"
    },
    {
     "data": {
      "text/html": [
       "<pre style=\"white-space:pre;overflow-x:auto;line-height:normal;font-family:Menlo,'DejaVu Sans Mono',consolas,'Courier New',monospace\">   <span style=\"color: #008080; text-decoration-color: #008080; font-weight: bold\">1</span>. Expanded on risk reduction and negotiation strategies.\n",
       "</pre>\n"
      ],
      "text/plain": [
       "   \u001b[1;36m1\u001b[0m. Expanded on risk reduction and negotiation strategies.\n"
      ]
     },
     "metadata": {},
     "output_type": "display_data"
    },
    {
     "data": {
      "text/html": [
       "<pre style=\"white-space:pre;overflow-x:auto;line-height:normal;font-family:Menlo,'DejaVu Sans Mono',consolas,'Courier New',monospace\">   <span style=\"color: #008080; text-decoration-color: #008080; font-weight: bold\">2</span>. Added the use of social proof and testimonials.\n",
       "</pre>\n"
      ],
      "text/plain": [
       "   \u001b[1;36m2\u001b[0m. Added the use of social proof and testimonials.\n"
      ]
     },
     "metadata": {},
     "output_type": "display_data"
    },
    {
     "data": {
      "text/html": [
       "<pre style=\"white-space:pre;overflow-x:auto;line-height:normal;font-family:Menlo,'DejaVu Sans Mono',consolas,'Courier New',monospace\">   <span style=\"color: #008080; text-decoration-color: #008080; font-weight: bold\">3</span>. Emphasized relationship building with specific examples like regular interactions.\n",
       "</pre>\n"
      ],
      "text/plain": [
       "   \u001b[1;36m3\u001b[0m. Emphasized relationship building with specific examples like regular interactions.\n"
      ]
     },
     "metadata": {},
     "output_type": "display_data"
    },
    {
     "data": {
      "text/html": [
       "<pre style=\"white-space:pre;overflow-x:auto;line-height:normal;font-family:Menlo,'DejaVu Sans Mono',consolas,'Courier New',monospace\">\n",
       "<span style=\"color: #800000; text-decoration-color: #800000; font-weight: bold\">⚠️  ELEMENTS THAT WERE MISSING:</span>\n",
       "</pre>\n"
      ],
      "text/plain": [
       "\n",
       "\u001b[1;31m⚠️  ELEMENTS THAT WERE MISSING:\u001b[0m\n"
      ]
     },
     "metadata": {},
     "output_type": "display_data"
    },
    {
     "data": {
      "text/html": [
       "<pre style=\"white-space:pre;overflow-x:auto;line-height:normal;font-family:Menlo,'DejaVu Sans Mono',consolas,'Courier New',monospace\">   <span style=\"color: #008080; text-decoration-color: #008080; font-weight: bold\">1</span>. Use of social proof and third-party endorsements.\n",
       "</pre>\n"
      ],
      "text/plain": [
       "   \u001b[1;36m1\u001b[0m. Use of social proof and third-party endorsements.\n"
      ]
     },
     "metadata": {},
     "output_type": "display_data"
    },
    {
     "data": {
      "text/html": [
       "<pre style=\"white-space:pre;overflow-x:auto;line-height:normal;font-family:Menlo,'DejaVu Sans Mono',consolas,'Courier New',monospace\">   <span style=\"color: #008080; text-decoration-color: #008080; font-weight: bold\">2</span>. Regular interaction examples for relationship building.\n",
       "</pre>\n"
      ],
      "text/plain": [
       "   \u001b[1;36m2\u001b[0m. Regular interaction examples for relationship building.\n"
      ]
     },
     "metadata": {},
     "output_type": "display_data"
    },
    {
     "data": {
      "text/html": [
       "<pre style=\"white-space:pre;overflow-x:auto;line-height:normal;font-family:Menlo,'DejaVu Sans Mono',consolas,'Courier New',monospace\"><span style=\"color: #af00ff; text-decoration-color: #af00ff\">╭──────────────────────────────────── </span><span style=\"color: #af00ff; text-decoration-color: #af00ff; font-weight: bold\">💡 ADDITIONAL STRATEGIC CONSIDERATIONS</span><span style=\"color: #af00ff; text-decoration-color: #af00ff\"> ─────────────────────────────────────╮</span>\n",
       "<span style=\"color: #af00ff; text-decoration-color: #af00ff\">│</span> Ensure all team members involved in the sales process are aligned on the value proposition and know how to      <span style=\"color: #af00ff; text-decoration-color: #af00ff\">│</span>\n",
       "<span style=\"color: #af00ff; text-decoration-color: #af00ff\">│</span> effectively communicate it in every client interaction. Training and role-playing scenarios can be beneficial.  <span style=\"color: #af00ff; text-decoration-color: #af00ff\">│</span>\n",
       "<span style=\"color: #af00ff; text-decoration-color: #af00ff\">╰─────────────────────────────────────────────────────────────────────────────────────────────────────────────────╯</span>\n",
       "</pre>\n"
      ],
      "text/plain": [
       "\u001b[38;5;129m╭─\u001b[0m\u001b[38;5;129m───────────────────────────────────\u001b[0m\u001b[38;5;129m \u001b[0m\u001b[1;38;5;129m💡 ADDITIONAL STRATEGIC CONSIDERATIONS\u001b[0m\u001b[38;5;129m \u001b[0m\u001b[38;5;129m────────────────────────────────────\u001b[0m\u001b[38;5;129m─╮\u001b[0m\n",
       "\u001b[38;5;129m│\u001b[0m Ensure all team members involved in the sales process are aligned on the value proposition and know how to      \u001b[38;5;129m│\u001b[0m\n",
       "\u001b[38;5;129m│\u001b[0m effectively communicate it in every client interaction. Training and role-playing scenarios can be beneficial.  \u001b[38;5;129m│\u001b[0m\n",
       "\u001b[38;5;129m╰─────────────────────────────────────────────────────────────────────────────────────────────────────────────────╯\u001b[0m\n"
      ]
     },
     "metadata": {},
     "output_type": "display_data"
    },
    {
     "name": "stdout",
     "output_type": "stream",
     "text": [
      "\n",
      "============================================================\n",
      "✅ Dual-agent sales consultation completed!\n"
     ]
    }
   ],
   "source": [
    "# ========================================\n",
    "# RUN QUALITY ANALYSIS & REFLECTION\n",
    "# ========================================\n",
    "\n",
    "print(\"🔄 Running Reflection & Quality Analysis...\")\n",
    "print(\"=\"*60)\n",
    "\n",
    "# Prepare comprehensive reflection prompt\n",
    "reflection_prompt = f\"\"\"\n",
    "SALES QUESTION ANALYSIS REQUEST\n",
    "\n",
    "Original Question:\n",
    "{sales_question.strip()}\n",
    "\n",
    "Primary Agent Response:\n",
    "- Answer: {primary_result.output.answer}\n",
    "- Confidence Score: {primary_result.output.confidence_score}\n",
    "- Key Points: {primary_result.output.key_points}\n",
    "- Sales Category: {primary_result.output.sales_category}\n",
    "\n",
    "Please provide a comprehensive quality analysis and enhanced response following your role as a senior sales director and QA specialist.\n",
    "\"\"\"\n",
    "\n",
    "print(\"🔍 Analyzing primary response for quality and completeness...\")\n",
    "\n",
    "# Run reflection analysis with timing\n",
    "reflection_start = datetime.now()\n",
    "reflection_result = reflection_agent.run_sync(reflection_prompt)\n",
    "reflection_end = datetime.now()\n",
    "reflection_time = (reflection_end - reflection_start).total_seconds()\n",
    "\n",
    "print(f\"✅ Quality analysis completed in {reflection_time:.2f} seconds\")\n",
    "print(\"=\"*60)\n",
    "\n",
    "# Display comprehensive reflection results\n",
    "if console:\n",
    "    # Rich formatted output for reflection analysis\n",
    "    console.print(\"\\n[bold magenta]🔍 REFLECTION & QUALITY ANALYSIS[/bold magenta]\")\n",
    "    \n",
    "    # Quality metrics table\n",
    "    quality_table = Table(show_header=True, header_style=\"bold cyan\")\n",
    "    quality_table.add_column(\"Quality Metric\", style=\"yellow\", width=25)\n",
    "    quality_table.add_column(\"Score/Result\", style=\"green\")\n",
    "    \n",
    "    quality_table.add_row(\"Original Quality Score\", f\"{reflection_result.output.quality_score:.1%}\")\n",
    "    quality_table.add_row(\"Improvements Made\", str(len(reflection_result.output.improvements_made)))\n",
    "    quality_table.add_row(\"Missing Elements\", str(len(reflection_result.output.missing_elements)))\n",
    "    quality_table.add_row(\"Additional Insights\", \"✅ Provided\" if reflection_result.output.additional_considerations else \"❌ None\")\n",
    "    \n",
    "    console.print(quality_table)\n",
    "    \n",
    "    # Enhanced answer panel\n",
    "    console.print(Panel(\n",
    "        reflection_result.output.reviewed_answer,\n",
    "        title=\"[bold green]🎯 ENHANCED SALES ADVICE[/bold green]\",\n",
    "        border_style=\"green\"\n",
    "    ))\n",
    "    \n",
    "    # Improvements made\n",
    "    if reflection_result.output.improvements_made:\n",
    "        console.print(\"\\n[bold blue]🔧 SPECIFIC IMPROVEMENTS MADE:[/bold blue]\")\n",
    "        for i, improvement in enumerate(reflection_result.output.improvements_made, 1):\n",
    "            console.print(f\"   {i}. {improvement}\")\n",
    "    \n",
    "    # Missing elements identified\n",
    "    if reflection_result.output.missing_elements:\n",
    "        console.print(\"\\n[bold red]⚠️  ELEMENTS THAT WERE MISSING:[/bold red]\")\n",
    "        for i, missing in enumerate(reflection_result.output.missing_elements, 1):\n",
    "            console.print(f\"   {i}. {missing}\")\n",
    "    \n",
    "    # Additional considerations\n",
    "    if reflection_result.output.additional_considerations:\n",
    "        console.print(Panel(\n",
    "            reflection_result.output.additional_considerations,\n",
    "            title=\"[bold purple]💡 ADDITIONAL STRATEGIC CONSIDERATIONS[/bold purple]\",\n",
    "            border_style=\"purple\"\n",
    "        ))\n",
    "\n",
    "else:\n",
    "    # Fallback to standard print\n",
    "    print(\"\\n🔍 REFLECTION & QUALITY ANALYSIS:\")\n",
    "    print(f\"Original Quality Score: {reflection_result.output.quality_score:.1%}\")\n",
    "    \n",
    "    print(f\"\\n🎯 Enhanced Answer:\")\n",
    "    print(reflection_result.output.reviewed_answer)\n",
    "    \n",
    "    if reflection_result.output.improvements_made:\n",
    "        print(f\"\\n🔧 Improvements Made:\")\n",
    "        for i, improvement in enumerate(reflection_result.output.improvements_made, 1):\n",
    "            print(f\"   {i}. {improvement}\")\n",
    "    \n",
    "    if reflection_result.output.missing_elements:\n",
    "        print(f\"\\n⚠️  Missing Elements:\")\n",
    "        for i, missing in enumerate(reflection_result.output.missing_elements, 1):\n",
    "            print(f\"   {i}. {missing}\")\n",
    "    \n",
    "    if reflection_result.output.additional_considerations:\n",
    "        print(f\"\\n💡 Additional Considerations:\")\n",
    "        print(reflection_result.output.additional_considerations)\n",
    "\n",
    "print(\"\\n\" + \"=\"*60)\n",
    "print(\"✅ Dual-agent sales consultation completed!\")"
   ]
  },
  {
   "cell_type": "markdown",
   "id": "92100bcb",
   "metadata": {
    "vscode": {
     "languageId": "raw"
    }
   },
   "source": [
    "## 🚀 **Step 8: Try More Sales Scenarios**\n",
    "\n",
    "Now that you've seen the dual-agent system in action, experiment with different sales scenarios! Replace the `sales_question` variable with any of these real-world challenges:\n",
    "\n",
    "### 🎯 **Enterprise Sales Scenarios:**\n",
    "- **Objection Handling**: \"How do I handle the objection 'We need to think about it' when closing enterprise deals?\"\n",
    "- **Stakeholder Management**: \"What's the best approach for navigating multiple decision-makers in complex B2B sales cycles?\"\n",
    "- **Competitive Positioning**: \"How do I effectively compete against incumbents when our solution is newer to market?\"\n",
    "\n",
    "### 📞 **Prospecting & Lead Generation:**\n",
    "- **Cold Outreach**: \"What are the most effective cold email strategies for SaaS sales in 2024?\"\n",
    "- **LinkedIn Prospecting**: \"How can I optimize my LinkedIn outreach for high-value B2B prospects?\"\n",
    "- **Referral Programs**: \"What's the best way to build and scale a customer referral program?\"\n",
    "\n",
    "### 🤝 **Relationship Building:**\n",
    "- **Trust Building**: \"How do I quickly establish credibility and trust with C-level executives?\"\n",
    "- **Long-term Relationships**: \"What strategies work best for maintaining relationships with existing clients to drive expansion revenue?\"\n",
    "- **Customer Success**: \"How can I align sales and customer success to reduce churn and increase upsells?\"\n",
    "\n",
    "### 📊 **Sales Strategy & Process:**\n",
    "- **Sales Methodology**: \"Should I use SPIN, Challenger, or MEDDIC methodology for enterprise software sales?\"\n",
    "- **Pipeline Management**: \"How do I effectively qualify leads and manage a complex sales pipeline?\"\n",
    "- **Performance Metrics**: \"What are the most important sales KPIs I should track for SaaS sales success?\"\n",
    "\n",
    "### 💰 **Negotiation & Closing:**\n",
    "- **Pricing Strategy**: \"How do I present value-based pricing to justify premium costs?\"\n",
    "- **Contract Negotiations**: \"What are effective strategies for negotiating terms with procurement teams?\"\n",
    "- **Closing Techniques**: \"What are modern, relationship-focused closing techniques that actually work?\"\n",
    "\n",
    "---\n",
    "\n",
    "## 🔧 **Customization Tips:**\n",
    "\n",
    "### **Modify Agent Behavior:**\n",
    "```python\n",
    "# Adjust model temperature for more creative responses\n",
    "model_temperature = 0.9  # Higher = more creative\n",
    "\n",
    "# Change to GPT-4 for enhanced reasoning\n",
    "model_name = \"gpt-4\"\n",
    "\n",
    "# Customize system prompts for specific industries\n",
    "sales_agent.system_prompt += \"Focus specifically on healthcare technology sales.\"\n",
    "```\n",
    "\n",
    "### **Add Your Own Schemas:**\n",
    "```python\n",
    "class IndustrySpecificAnswer(BaseModel):\n",
    "    answer: str\n",
    "    industry_considerations: List[str]\n",
    "    compliance_notes: Optional[str]\n",
    "    # Add fields specific to your industry\n",
    "```\n",
    "\n",
    "### **Track Agent Performance:**\n",
    "```python\n",
    "# Log all interactions for analysis\n",
    "interaction_log = {\n",
    "    \"timestamp\": datetime.now(),\n",
    "    \"question\": sales_question,\n",
    "    \"primary_confidence\": primary_result.output.confidence_score,\n",
    "    \"reflection_quality\": reflection_result.output.quality_score,\n",
    "    \"improvements_count\": len(reflection_result.output.improvements_made)\n",
    "}\n",
    "```\n",
    "\n",
    "---\n",
    "\n",
    "## 🎉 **Next Steps:**\n",
    "\n",
    "1. **Experiment** with different sales scenarios\n",
    "2. **Customize** the agents for your specific industry or role\n",
    "3. **Track** agent performance and improve prompts\n",
    "4. **Integrate** into your sales workflow or training programs\n",
    "5. **Scale** by adding more specialized agents for different sales functions\n"
   ]
  }
 ],
 "metadata": {
  "kernelspec": {
   "display_name": ".venv",
   "language": "python",
   "name": "python3"
  },
  "language_info": {
   "codemirror_mode": {
    "name": "ipython",
    "version": 3
   },
   "file_extension": ".py",
   "mimetype": "text/x-python",
   "name": "python",
   "nbconvert_exporter": "python",
   "pygments_lexer": "ipython3",
   "version": "3.12.9"
  }
 },
 "nbformat": 4,
 "nbformat_minor": 5
}
